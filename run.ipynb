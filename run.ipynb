{
 "cells": [
  {
   "cell_type": "code",
   "execution_count": null,
   "metadata": {
    "vscode": {
     "languageId": "plaintext"
    }
   },
   "outputs": [],
   "source": [
    "import os\n",
    "import numpy as np\n",
    "import torch\n",
    "from ts2vec import TS2Vec\n",
    "from sklearn.linear_model import LogisticRegression\n",
    "from sklearn.ensemble import RandomForestClassifier\n",
    "from sklearn.metrics import accuracy_score\n",
    "\n",
    "# Function to load a UCR dataset from .tsv files\n",
    "def load_ucr_dataset(dataset_name, root_dir=\"datasets/UCR\"):\n",
    "    train_file = os.path.join(root_dir, dataset_name, f\"{dataset_name}_TRAIN.tsv\")\n",
    "    test_file = os.path.join(root_dir, dataset_name, f\"{dataset_name}_TEST.tsv\")\n",
    "\n",
    "    # Load data using numpy (tab-separated values)\n",
    "    train_data = np.loadtxt(train_file, delimiter=\"\\t\")\n",
    "    test_data = np.loadtxt(test_file, delimiter=\"\\t\")\n",
    "\n",
    "    # Separate labels and features\n",
    "    train_y, train_x = train_data[:, 0], train_data[:, 1:]\n",
    "    test_y, test_x = test_data[:, 0], test_data[:, 1:]\n",
    "\n",
    "    # Normalize labels to start from 0 (important for classification)\n",
    "    train_y -= train_y.min()\n",
    "    test_y -= test_y.min()\n",
    "\n",
    "    return train_x, train_y, test_x, test_y\n",
    "\n",
    "# Load the UCR dataset\n",
    "dataset_name = \"EthanolLevel\"  # Change to any dataset in UCR\n",
    "train_x_np, train_y, test_x_np, test_y = load_ucr_dataset(dataset_name)\n",
    "\n",
    "# Convert data to PyTorch tensors and add an extra dimension for the channel/feature.\n",
    "# This converts the shape from (num_samples, sequence_length) to (num_samples, sequence_length, 1)\n",
    "train_x_tensor = torch.tensor(train_x_np, dtype=torch.float32).unsqueeze(-1)\n",
    "test_x_tensor = torch.tensor(test_x_np, dtype=torch.float32).unsqueeze(-1)\n",
    "\n",
    "# Setup device and initialize TS2Vec.\n",
    "device = \"cuda\" if torch.cuda.is_available() else \"cpu\"\n",
    "model = TS2Vec(input_dims=train_x_tensor.shape[-1], device=device)\n",
    "\n",
    "# For training, convert the training tensor back to a NumPy array.\n",
    "train_x_for_fit = train_x_tensor.cpu().numpy()\n",
    "model.fit(train_x_for_fit, n_epochs=10, verbose=True)\n",
    "\n",
    "# For encoding, also convert the tensors to NumPy arrays.\n",
    "# This will produce a representation of shape (n_samples, time_steps, feature_dim)\n",
    "train_repr = model.encode(train_x_tensor.cpu().numpy())\n",
    "test_repr = model.encode(test_x_tensor.cpu().numpy())\n",
    "\n",
    "# Aggregate the time dimension (axis=1) by taking the mean, so that the representations become 2D.\n",
    "train_repr = train_repr.mean(axis=1)\n",
    "test_repr = test_repr.mean(axis=1)\n",
    "\n",
    "# Train a classifier (Logistic Regression)\n",
    "clf = RandomForestClassifier(n_estimators=100, random_state=42) # LogisticRegression()\n",
    "clf.fit(train_repr, train_y)\n",
    "\n",
    "# Evaluate on the test set\n",
    "preds = clf.predict(test_repr)\n",
    "accuracy = accuracy_score(test_y, preds)\n",
    "print(f\"Classification Accuracy on {dataset_name}: {accuracy:.4f}\")\n"
   ]
  }
 ],
 "metadata": {
  "language_info": {
   "name": "python"
  }
 },
 "nbformat": 4,
 "nbformat_minor": 2
}
